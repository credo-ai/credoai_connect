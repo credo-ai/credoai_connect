{
 "cells": [
  {
   "cell_type": "raw",
   "id": "cb8273f5",
   "metadata": {},
   "source": [
    "<!--Documentation related cell please ignore.-->\n",
    "Click <a class=\"reference internal\" download=\"\" href=\"../notebooks/quickstart.ipynb\">here</a> to download this notebook."
   ]
  },
  {
   "cell_type": "markdown",
   "id": "858e3872-01c7-4dc5-bc70-eb9a821c3466",
   "metadata": {
    "tags": []
   },
   "source": [
    "\n",
    "\n",
    "# Credo AI Connect\n",
    "\n",
    "**Credo AI Connect** is the library to interact with the Credo AI Governance Platform. It is responsible for receiving \"evidence requirements\" and sending \"evidence\"\n",
    "\n",
    "In this demo we train a model on some made-up data, and send the results to the [Credo AI Governance Platform](https://www.credo.ai/). For a tool to help you assess your AI systems, see [Credo AI Lens](https://credoai-lens.readthedocs.io/en/stable/setup.html).\n",
    "\n",
    "**Setup**\n",
    "\n",
    "Connect installation instruction can be found on [readthedocs](https://credoai-connect.readthedocs.io/en/stable/setup.html)\n",
    "\n",
    "**Find the code**"
   ]
  },
  {
   "cell_type": "raw",
   "id": "e5793e90-e1aa-4e5a-a723-7e67b908aa18",
   "metadata": {},
   "source": [
    "<!--Documentation related cell please ignore.-->\n",
    "Click <a class=\"reference internal\" download=\"\" href=\"../notebooks/quickstart.ipynb\">here</a> to download this notebook."
   ]
  },
  {
   "cell_type": "markdown",
   "id": "2feee674-2dce-4d74-bfbb-d8e58d84415f",
   "metadata": {},
   "source": [
    "## Useful keywords\n",
    "\n",
    "- **Credo AI Platform**: Also referred to as simply \"Platform\". The central AI governance/reporting Platform, found at [https://app.credo.ai/](https://app.credo.ai/)\n",
    "\n",
    "- **credoconfig**: configuration file to be copied in the user's home folder\n",
    "\n",
    "- **use_case_name**: The name of your Use Case as it is registered on Credo AI Platform\n",
    "\n",
    "- **policy_pack**: A set of governance controls that a Use Case needs to satisfy. A Use Case can have multiple policy packs applied to it.\n",
    "\n",
    "- **policy_pack_key**: A unique identifier for a policy pack (where do we get this?)\n",
    "\n",
    "- **assessment_plan_url**: The link to the assessment plan, this is generated in the Platform and used to download the assessment plan in the Governance object. See example below.\n",
    "\n",
    "- **evidence**: Any evaluation of an AI system, formatted specifically to be uploaded to the platform.\n"
   ]
  },
  {
   "cell_type": "markdown",
   "id": "ef6d3ba0-6133-474c-97cf-9be99d7bf950",
   "metadata": {},
   "source": [
    "## Setup API Connection with the Platform"
   ]
  },
  {
   "cell_type": "markdown",
   "id": "4255288f-0ffa-4050-b62c-ee9dcd7a9dd3",
   "metadata": {},
   "source": [
    "### Get a config file\n",
    "This file contains all the necessary information to connect Lens to the Credo AI Platform.  \n",
    "\n",
    "To generate the config file, once you logged into the platform, click on your name icon (top left) and follow:  \n",
    "\n",
    "`My Settings -> Tokens -> Plus Sign -> Generate`\n",
    "\n",
    "Immediately after generating the token, you will be given the possibility to download the config file.\n",
    "\n",
    "The default location/file name Lens is expecting is `~/.credoconfig`, where `~` is your home folder. You can specify any other location when you are initializing the `Governance` object (see below)."
   ]
  },
  {
   "cell_type": "markdown",
   "id": "b592bab4-843a-461d-af9f-5a38ee895ed3",
   "metadata": {},
   "source": [
    "## Do some AI stuff!"
   ]
  },
  {
   "cell_type": "code",
   "execution_count": null,
   "id": "fd155239-7dc8-4576-91e6-cc09e4463204",
   "metadata": {},
   "outputs": [],
   "source": [
    "from sklearn.linear_model import LinearRegression\n",
    "import sklearn.metrics as sk_metrics\n",
    "from sklearn.model_selection import train_test_split\n",
    "import numpy as np"
   ]
  },
  {
   "cell_type": "markdown",
   "id": "33445116-3ad6-48f1-970d-e9e436d9d7ea",
   "metadata": {},
   "source": [
    "### Get data and train model\n",
    "\n",
    "We'll make up some data and fit a simple model to get us started."
   ]
  },
  {
   "cell_type": "code",
   "execution_count": null,
   "id": "62531aa3-11bd-489d-a3cf-a805b327fe46",
   "metadata": {},
   "outputs": [],
   "source": [
    "model = LinearRegression()\n",
    "r = np.random.RandomState(42)\n",
    "\n",
    "# hallucinate data\n",
    "N = 10000\n",
    "data = r.randn(N, 2)\n",
    "y = (data[:,0] + 3*data[:,1] + r.randn(N)*.2)\n",
    "# split\n",
    "X_train, X_test, y_train, y_test = train_test_split(data, y)\n",
    "\n",
    "# train model\n",
    "model.fit(X_train, y_train)\n",
    "pred_test = model.predict(X_test)"
   ]
  },
  {
   "cell_type": "markdown",
   "id": "69153277-5e82-4c76-9b92-9dba5f254323",
   "metadata": {},
   "source": [
    "### Assess the AI System\n",
    "\n",
    "The most likely thing you'll want to send to the Credo AI Platform are _assessments_ of the AI system. These are often _metrics_ that are calculated to summarize aspects of the system's behavior (e.g., performance, fairness) but can be other things too, like descriptive statistics of the dataset.\n",
    "\n",
    "We'll assume we have a suite of assessments we plan to use for this use-case. The below is just an example - any assessments can be done and sent to the Platform."
   ]
  },
  {
   "cell_type": "code",
   "execution_count": null,
   "id": "a255a36d-c26b-463e-80e5-699961c789ef",
   "metadata": {},
   "outputs": [],
   "source": [
    "required_assessments = [sk_metrics.r2_score, sk_metrics.mean_squared_error]\n",
    "\n",
    "assessments = {m.__name__: m(y_test, pred_test) for m in required_assessments}"
   ]
  },
  {
   "cell_type": "markdown",
   "id": "4fb1c630-4f10-460c-97fc-85330360f070",
   "metadata": {
    "tags": []
   },
   "source": [
    "## Platform integration in 5 Minutes\n",
    "\n",
    "To send evidence to the platform takes three steps:\n",
    "\n",
    "1. Connect to the platform via the Governance class\n",
    "2. Use the Adapter class to send the assessments to the Governance class\n",
    "3. Export the evidence to the platform.\n",
    "\n",
    "First we will see all the code together, and then break it down."
   ]
  },
  {
   "cell_type": "code",
   "execution_count": null,
   "id": "47e05093-f918-4e8a-8636-47eac6f0897c",
   "metadata": {},
   "outputs": [],
   "source": [
    "import connect as ct"
   ]
  },
  {
   "cell_type": "code",
   "execution_count": null,
   "id": "ec32fc49-cbf1-4674-836d-91dfc190a416",
   "metadata": {
    "tags": []
   },
   "outputs": [],
   "source": [
    "# connect to platform via governace\n",
    "gov = ct.Governance()  # Specify config_path if your config file is not the default one: ~/.credoconfig\n",
    "url = 'your assessment url'\n",
    "gov.register(assessment_plan_url=url)\n",
    "\n",
    "# set up adapter and send metrics to governance class\n",
    "adapter = ct.Adapter(governance = gov, model_name='My Model')\n",
    "source = f\"Quickstart_Connect-{ct.__version__}\"\n",
    "adapter.metrics_to_governance(metrics=assessments, source = source)\n",
    "\n",
    "# export\n",
    "gov.export()"
   ]
  },
  {
   "cell_type": "markdown",
   "id": "6c69d81a-83d8-4e76-afd9-c16b51f6ff68",
   "metadata": {},
   "source": [
    "#### 1. Connect to the platform via the Governance Class\n",
    "\n",
    "The Governance class handles the connection with the Credo AI Platform. On the Platform, you can govern an AI system by specifying \"policy packs\" that specify the technical requirements the AI system must meet. This class can retrieve them, which is most useful if you are using [Credo AI Lens](https://credoai-lens.readthedocs.io/en/stable/setup.html), our assessment framework. If you aren't using Lens, the requirements are still important in directing your assessment, but they aren't _programatically_ connected to your assessments.\n",
    "\n",
    "Since we are only using `Connect` in this demo, we will ignore that functionality.\n",
    "\n",
    "The important functionality relevant here is that the Governance object handles the API calls allowing you to _send_ evidence to the platform. "
   ]
  },
  {
   "cell_type": "code",
   "execution_count": null,
   "id": "6df1b60f-48d7-4f6c-9c7d-adb3f166f734",
   "metadata": {
    "tags": []
   },
   "outputs": [],
   "source": [
    "# Retrieve Policy Pack Assessment Plan\n",
    "gov = ct.Governance()  # Specify config_path if your config file is not the default one: ~/.credoconfig\n",
    "url = 'your assessment url'\n",
    "gov.register(assessment_plan_url=url)"
   ]
  },
  {
   "cell_type": "markdown",
   "id": "12a8ff57-099a-4e63-b2bc-6a6da6779ce2",
   "metadata": {},
   "source": [
    "#### 2. Use the Adapter class to send the assessments to the Governance class\n",
    "\n",
    "The `Adapter` class handles structuring your assessments so that the Credo AI Platform can understand them. Connect uses `EvidenceContainers` to handle converting python objects like dictionaries into `Evidence`, the structured output that the Platform can understand. The Adapter then passes this `Evidence` to the `Governance` object for export"
   ]
  },
  {
   "cell_type": "code",
   "execution_count": null,
   "id": "4b0fa6b7-2daf-4061-aa37-7e036750c124",
   "metadata": {},
   "outputs": [],
   "source": [
    "adapter = ct.Adapter(governance = gov, model_name='My Model')\n"
   ]
  },
  {
   "cell_type": "markdown",
   "id": "1dfb4be0-eee6-4a9b-8ffa-412b375d5636",
   "metadata": {},
   "source": [
    "Once we initialize an adapter, we can use its functionality to send different kinds of evidence.\n",
    "\n",
    "For instance, metrics (which must be organized as key:value pairs of metric_name:value) are sent to governance using `metrics_to_governance`\n",
    "This converts the dictionary of assessments into `Evidence` (in this case a `MetricEvidence`).\n",
    "\n",
    "Every time we send evidence we specify a source. This is for you to define however you would like. We suggest you make the source useful to establish provenance of your assessments. "
   ]
  },
  {
   "cell_type": "code",
   "execution_count": null,
   "id": "deb31c08-40a2-4341-b795-5e37333edfc4",
   "metadata": {},
   "outputs": [],
   "source": [
    "source = f\"Quickstart_Connect-{ct.__version__}\"\n",
    "adapter.metrics_to_governance(metrics=assessments, source = source)"
   ]
  },
  {
   "cell_type": "markdown",
   "id": "b90b05c4-c541-442d-aa41-79ba567167f3",
   "metadata": {},
   "source": [
    "You can see the evidence in the `Governance` class we instantiated before"
   ]
  },
  {
   "cell_type": "code",
   "execution_count": null,
   "id": "fd32329f-44d0-400d-ba61-0e090e52152f",
   "metadata": {},
   "outputs": [],
   "source": [
    "gov.get_evidence()"
   ]
  },
  {
   "cell_type": "markdown",
   "id": "8dfab5cf-311b-43d6-a846-b6f4486f51c4",
   "metadata": {},
   "source": [
    "If you need to send more evidence, you'll just call a function like `metrics_to_governance` again. By default, this functions overwright the `Evidence` in `Governance` so you'll have to change an argument to allow overwriting.\n",
    "\n",
    "We will send a different type of evidence - a table, which must be a pandas DataFrame."
   ]
  },
  {
   "cell_type": "code",
   "execution_count": null,
   "id": "a6861fda-a0b4-49b4-8f53-c8f187da0c26",
   "metadata": {},
   "outputs": [],
   "source": [
    "import pandas as pd\n",
    "table = pd.DataFrame({'arbitrary_data': [3,4,5]})\n",
    "table.name = 'my_table'\n",
    "adapter.table_to_governance(table, source=source, overwrite_governance=False)"
   ]
  },
  {
   "cell_type": "code",
   "execution_count": null,
   "id": "9da37aa7-5305-4ec9-8c49-a11d32116f16",
   "metadata": {},
   "outputs": [],
   "source": [
    "gov.get_evidence()"
   ]
  },
  {
   "cell_type": "markdown",
   "id": "6e4364e8-d5da-436e-a0b3-e38a1b283f11",
   "metadata": {},
   "source": [
    "#### 3. Export the evidence to the platform.\n",
    "\n",
    "Exporting is straight forward! You can either export directly to the Platform or to a file. At the time of export, the uploaded evidence will be checked against the governance requirements specified on Platform and let you know what's missing."
   ]
  },
  {
   "cell_type": "code",
   "execution_count": null,
   "id": "bddb93de-6139-4f22-9df0-b97019157541",
   "metadata": {
    "tags": []
   },
   "outputs": [],
   "source": [
    "# export to API\n",
    "gov.export()\n",
    "\n",
    "# export to file\n",
    "gov.export(\"assessment_export.json\")"
   ]
  },
  {
   "cell_type": "markdown",
   "id": "d6c71569-6152-42d6-aadc-da60a25eca52",
   "metadata": {
    "tags": []
   },
   "source": [
    "## Other ways to label your evidence"
   ]
  },
  {
   "cell_type": "markdown",
   "id": "21ea5e8a-2cb1-41ec-aafb-a10299774725",
   "metadata": {},
   "source": [
    "On the Credo AI Platform, certain governance requirements may only apply to models that are tagged in a certain way. You can get the requirements tags from governance and apply it by passing a dictionary to the `model_tags` of the `Adapter`"
   ]
  },
  {
   "cell_type": "code",
   "execution_count": null,
   "id": "fd269b76-3fb7-4288-8b0a-bf16772b5b6a",
   "metadata": {},
   "outputs": [],
   "source": [
    "gov.get_requirement_tags()"
   ]
  },
  {
   "cell_type": "code",
   "execution_count": null,
   "id": "861cdace-f849-4248-bdd7-cd5a86888902",
   "metadata": {},
   "outputs": [],
   "source": [
    "adapter = ct.Adapter(governance = gov, model_name='My Model', model_tags={'model_type': 'regression'})"
   ]
  },
  {
   "cell_type": "markdown",
   "id": "ee605487-1de4-4fe7-8df2-cb8947a260cd",
   "metadata": {},
   "source": [
    "If you need to label your evidence with more information than just `source` you can do that too."
   ]
  },
  {
   "cell_type": "markdown",
   "id": "c0797a51",
   "metadata": {},
   "source": [
    "## Lens in 5 minutes"
   ]
  },
  {
   "cell_type": "markdown",
   "id": "cce779fd",
   "metadata": {
    "tags": []
   },
   "source": [
    "Below is a basic example where our goal is to evaluate the above model. We'll break down this code [below](#Breaking-Down-The-Steps).\n",
    "\n",
    "Briefly, the code is doing four things:\n",
    "\n",
    "* Wrapping ML artifacts (like models and data) in Lens objects\n",
    "* Initializing an instance of Lens. Lens is the main object that performs evaluations. Under the hood, it creates a `pipeline` of evaluations that are run.\n",
    "* Add evaluators to Lens.\n",
    "* Run Lens"
   ]
  },
  {
   "cell_type": "code",
   "execution_count": null,
   "id": "5b4e6a6a",
   "metadata": {
    "tags": []
   },
   "outputs": [],
   "source": [
    "# set up model and data artifacts\n",
    "credo_model = ClassificationModel(name=\"credit_default_classifier\", model_like=model)\n",
    "credo_data = TabularData(\n",
    "    name=\"UCI-credit-default\",\n",
    "    X=X_test,\n",
    "    y=y_test,\n",
    "    sensitive_features=sensitive_features_test,\n",
    ")\n",
    "\n",
    "# Initialization of the Lens object\n",
    "lens = Lens(model=credo_model, assessment_data=credo_data)\n",
    "\n",
    "# initialize the evaluator and add it to Lens\n",
    "metrics = ['precision_score', 'recall_score', 'equal_opportunity']\n",
    "lens.add(ModelFairness(metrics=metrics))\n",
    "lens.add(Performance(metrics=metrics))\n",
    "\n",
    "# run Lens\n",
    "lens.run()"
   ]
  },
  {
   "cell_type": "markdown",
   "id": "c188b100-2ebb-42c8-9451-2812fe7383d6",
   "metadata": {},
   "source": [
    "### Getting results within your python environment\n",
    "\n",
    "`lens.get_results()` provides a list where the results of the evaluators (a list of dataframes) are stored along with the evaluator metadata. In this case, there are 2 results - one for each evaluator."
   ]
  },
  {
   "cell_type": "code",
   "execution_count": null,
   "id": "7eeac730-29bd-4300-8e02-d8677e10123e",
   "metadata": {},
   "outputs": [],
   "source": [
    "results = lens.get_results()\n",
    "print(f\"Results for {len(results)} evaluators\")"
   ]
  },
  {
   "cell_type": "markdown",
   "id": "8fa1eab0",
   "metadata": {},
   "source": [
    "`lens.get_results()` has some arguments, which makes it easier for you to get a subset of results. These are the same arguments that can be passed to `lens.get_pipeline` and `lens.get_evidence`"
   ]
  },
  {
   "cell_type": "code",
   "execution_count": null,
   "id": "f7735dd2-5797-45aa-90f2-212faa063edd",
   "metadata": {},
   "outputs": [],
   "source": [
    "lens.get_results(evaluator_name='Performance')"
   ]
  },
  {
   "cell_type": "markdown",
   "id": "94ca7568",
   "metadata": {},
   "source": [
    "## Using Len's pipeline argument"
   ]
  },
  {
   "cell_type": "markdown",
   "id": "498a11b3",
   "metadata": {},
   "source": [
    "If we want to add multiple evaluators to our pipeline, one way of doing it could be repeating the `add` step, as shown above. Another way is to define the pipeline steps, and pass it to `Lens` at initialization time. Let's explore the latter!"
   ]
  },
  {
   "cell_type": "code",
   "execution_count": null,
   "id": "f506b7d8",
   "metadata": {},
   "outputs": [],
   "source": [
    "pipeline = [\n",
    "    (ModelFairness(metrics)),\n",
    "    (Performance(metrics)),\n",
    "]\n",
    "lens = Lens(model=credo_model, assessment_data=credo_data, pipeline=pipeline)"
   ]
  },
  {
   "cell_type": "markdown",
   "id": "aa465d26",
   "metadata": {},
   "source": [
    "Above, each of the `tuples` in the `list` is in the form `(instantiated_evaluator, id)`."
   ]
  },
  {
   "cell_type": "code",
   "execution_count": null,
   "id": "c46bdd9e",
   "metadata": {},
   "outputs": [],
   "source": [
    "# notice that Lens functions can be chained together\n",
    "results = lens.run().get_results()\n",
    "print(f'\\nFound results for {len(results)} evaluators')"
   ]
  },
  {
   "cell_type": "markdown",
   "id": "601f5203",
   "metadata": {},
   "source": [
    "Let's check that we have results for both of our evaluators."
   ]
  },
  {
   "cell_type": "code",
   "execution_count": null,
   "id": "ab0ed632",
   "metadata": {},
   "outputs": [],
   "source": [
    "results[0]"
   ]
  },
  {
   "cell_type": "code",
   "execution_count": null,
   "id": "5bb680a5",
   "metadata": {},
   "outputs": [],
   "source": [
    "results[1]"
   ]
  },
  {
   "cell_type": "markdown",
   "id": "bb18d57e",
   "metadata": {},
   "source": [
    "## That's it!\n",
    "\n",
    "That should get you up and running. Next steps include:\n",
    "\n",
    "* Trying out other evaluators (they are all accessible via `credoai.evaluators`)\n",
    "* Checking out our developer guide to better understand the Lens ecosystem and see how you can extend it.\n",
    "* Exploring the Credo AI Governance Platform, which will connect AI assessments with customizable governance to support reporting, compliance, multi-stakeholder translation and more!"
   ]
  },
  {
   "cell_type": "markdown",
   "id": "c6c05dfe",
   "metadata": {
    "tags": []
   },
   "source": [
    "## Breaking Down The Steps\n",
    "\n",
    "### Preparing artifacts\n",
    "\n",
    "Lens interacts with \"AI Artifacts\" which wrap model and data objects and standardize them for use by different evaluators.\n",
    "\n",
    "Below we create a `ClassificationModel` artifact. This is a light wrapper for any kind of fitted classification model-like object. \n",
    "\n",
    "We also create a `TabularData` artifact which stores X, y and sensitive features."
   ]
  },
  {
   "cell_type": "code",
   "execution_count": null,
   "id": "a4f1fae7",
   "metadata": {},
   "outputs": [],
   "source": [
    "# set up model and data artifacts\n",
    "credo_model = ClassificationModel(name=\"credit_default_classifier\", model_like=model)\n",
    "\n",
    "credo_data = TabularData(\n",
    "    name=\"UCI-credit-default\",\n",
    "    X=X_test,\n",
    "    y=y_test,\n",
    "    sensitive_features=sensitive_features_test,\n",
    ")"
   ]
  },
  {
   "cell_type": "markdown",
   "id": "114bd0bb",
   "metadata": {
    "tags": []
   },
   "source": [
    "#### Model\n",
    "\n",
    "Model type objects, like `ClassificationModel` used above, serve as adapters between arbitrary models and the evaluators in Lens. Some evaluators depend on Model instantiating certain methods. For example, `ClassificationModel` can accept any generic object having `predict` and `predict_proba` methods, including fitted sklearn pipelines.\n",
    "\n"
   ]
  },
  {
   "cell_type": "markdown",
   "id": "db7fb09b",
   "metadata": {
    "tags": []
   },
   "source": [
    "#### Data\n",
    "\n",
    "_Data_ type artifact, like `TabularData` serve as adapters between datasets and the evaluators in Lens.\n",
    "\n",
    "When you pass data to a _Data_ artifact, the artifact performs various steps of validation, and formats them so that they can be used by evaluators. The aim of this procedure is to preempt errors down the line.\n",
    "\n",
    "You can pass Data to Lens as a **training dataset** or an **assessment dataset** (see lens class documentation). If the former, it will not be used to assess the model. Instead, dataset assessments will be performed on the dataset (e.g., fairness assessment). The validation dataset will be assessed in the same way, but _also_ used to assess the model, if provided.\n",
    "\n",
    "Similarly to _Model_ type objects, _Data_ objects can be customized, see !!insertlink!!"
   ]
  },
  {
   "cell_type": "markdown",
   "id": "e4583249",
   "metadata": {},
   "source": [
    "### Evaluators \n",
    "\n",
    "Lens uses the above artifacts to ensure a successfull run of the evaluators. As we have seen in the sections [Lens in 5 minutes](##Lens-in-5-minutes) and [Adding multiple evaluators](##Adding-multiple-evaluators), multiple evaluators can be added to _Lens_ pipeline. Each evaluators contains information on what it needs in order to run successfully, and it executes a validation step at _add_ time.\n",
    "\n",
    "The result of the validation depends on what artifacts are available, their content and the type of evaluator being added to the pipeline. In case the validation process fails, the user is notified the reason why the evaluator cannot be added to the pipeline.\n",
    "\n",
    "See for example:"
   ]
  },
  {
   "cell_type": "code",
   "execution_count": null,
   "id": "836cccd0",
   "metadata": {},
   "outputs": [],
   "source": [
    "from credoai.evaluators import Privacy\n",
    "lens.add(Privacy())"
   ]
  },
  {
   "cell_type": "markdown",
   "id": "e76369e8",
   "metadata": {},
   "source": [
    "Currently no automatic run of evaluators is supported. However, when Lens is used in combination with Credo AI Platform, it is possible to download an assessment plan which then gets converted into a set of evaluations that Lens can run programmatically. For more information see the [governance tutorial](https://credoai-lens.readthedocs.io/en/stable/notebooks/governance_integration.html)."
   ]
  },
  {
   "cell_type": "markdown",
   "id": "cdb3c5b8",
   "metadata": {},
   "source": [
    "### Run Lens\n",
    "\n",
    "After we have initialized _Lens_ the _Model_ and _Data_ (`ClassificationModel` and `TabularData` in our example) type artifacts, we can add whichever evaluators we want to the pipeline, and finally run it!"
   ]
  },
  {
   "cell_type": "code",
   "execution_count": null,
   "id": "fc76430f",
   "metadata": {},
   "outputs": [],
   "source": [
    "lens = Lens(model=credo_model, assessment_data=credo_data)\n",
    "metrics = ['precision_score', 'recall_score', 'equal_opportunity']\n",
    "lens.add(ModelFairness(metrics=metrics))\n",
    "lens.run()"
   ]
  },
  {
   "cell_type": "markdown",
   "id": "673dbbc9",
   "metadata": {},
   "source": [
    "As you can notice, when adding _evaluators_ to lens, they need to be instantiated. If any extra arguments need to be passed to the evaluator (like metrics in this case), this is the time to do it."
   ]
  },
  {
   "cell_type": "markdown",
   "id": "2a5dcbe3",
   "metadata": {},
   "source": [
    "**Getting Evaluator Results**\n",
    "\n",
    "Afte the pipeline is run, the results become accessible via the method `get_results()`\n",
    "\n",
    "`lens.get_results()` provides a dictionary where the results of the evaluators are stored as values, and the keys correspond to the ids of the evaluators.  \n",
    "\n",
    "In the previous case we specified the id of the evaluator when we added `ModelFairness` to the pipeline, however `id` is an optional argument for the `add` method. If omitted, a random one will be generated."
   ]
  },
  {
   "cell_type": "code",
   "execution_count": null,
   "id": "031d237a",
   "metadata": {},
   "outputs": [],
   "source": [
    "lens.get_results()"
   ]
  },
  {
   "cell_type": "markdown",
   "id": "ac3bfe1a",
   "metadata": {},
   "source": [
    "**Credo AI Governance Platform**\n",
    "\n",
    "For information on how to interact with the plaform, please look into: [Connecting with Governance App](https://credoai-lens.readthedocs.io/en/stable/notebooks/governance_integration.html) tutorial for directions.\n"
   ]
  }
 ],
 "metadata": {
  "kernelspec": {
   "display_name": "Python 3 (ipykernel)",
   "language": "python",
   "name": "python3"
  },
  "language_info": {
   "codemirror_mode": {
    "name": "ipython",
    "version": 3
   },
   "file_extension": ".py",
   "mimetype": "text/x-python",
   "name": "python",
   "nbconvert_exporter": "python",
   "pygments_lexer": "ipython3",
   "version": "3.9.13"
  },
  "vscode": {
   "interpreter": {
    "hash": "507a61bde0a0183a71b2d35939f461921273a091e2cc4517af66dd70c4baafc9"
   }
  }
 },
 "nbformat": 4,
 "nbformat_minor": 5
}
